{
  "nbformat": 4,
  "nbformat_minor": 0,
  "metadata": {
    "colab": {
      "provenance": [],
      "include_colab_link": true
    },
    "kernelspec": {
      "name": "python3",
      "display_name": "Python 3"
    },
    "language_info": {
      "name": "python"
    }
  },
  "cells": [
    {
      "cell_type": "markdown",
      "metadata": {
        "id": "view-in-github",
        "colab_type": "text"
      },
      "source": [
        "<a href=\"https://colab.research.google.com/github/Ayushhhpandya/Generative_Ai_2025/blob/main/2303A52125_04_Ass_04.ipynb\" target=\"_parent\"><img src=\"https://colab.research.google.com/assets/colab-badge.svg\" alt=\"Open In Colab\"/></a>"
      ]
    },
    {
      "cell_type": "markdown",
      "source": [
        " 1. Design a simple ANN architecture with one input and one output layer (no hidden\n",
        "layer). Assume a linear activation function in the output layer"
      ],
      "metadata": {
        "id": "YMVdsGiOxSTi"
      }
    },
    {
      "cell_type": "code",
      "execution_count": null,
      "metadata": {
        "colab": {
          "base_uri": "https://localhost:8080/"
        },
        "id": "XgRYDmpMv2q2",
        "outputId": "e428695c-ba3d-4f52-dc3e-a5e514dfd47c"
      },
      "outputs": [
        {
          "output_type": "stream",
          "name": "stdout",
          "text": [
            "Epoch 0, MSE: 0.48826\n",
            "Epoch 100, MSE: 0.00318\n",
            "Epoch 200, MSE: 0.00204\n",
            "Epoch 300, MSE: 0.00179\n",
            "Epoch 400, MSE: 0.00157\n",
            "Epoch 500, MSE: 0.00138\n",
            "Epoch 600, MSE: 0.00122\n",
            "Epoch 700, MSE: 0.00109\n",
            "Epoch 800, MSE: 0.00097\n",
            "Epoch 900, MSE: 0.00086\n",
            "Final Training MSE: 0.00078\n",
            "Test MSE: 0.00043\n",
            "Enter x1, x2, x3: 1 2 3\n",
            "Predicted output: 1.01809\n"
          ]
        }
      ],
      "source": [
        "import numpy as np\n",
        "train_X = np.array([\n",
        "    [0.1, 0.2, 0.3],\n",
        "    [0.2, 0.3, 0.4],\n",
        "    [0.3, 0.4, 0.5],\n",
        "    [0.5, 0.6, 0.7],\n",
        "    [0.1, 0.3, 0.5],\n",
        "    [0.2, 0.4, 0.6],\n",
        "    [0.3, 0.5, 0.7],\n",
        "    [0.4, 0.6, 0.8],\n",
        "    [0.5, 0.7, 0.1]\n",
        "])\n",
        "train_y = np.array([0.14, 0.20, 0.26, 0.38, 0.22, 0.28, 0.34, 0.40, 0.22])\n",
        "test_X = np.array([\n",
        "    [0.6, 0.7, 0.8],\n",
        "    [0.7, 0.8, 0.9]\n",
        "])\n",
        "test_y = np.array([0.44, 0.50])\n",
        "weights = np.random.rand(3)\n",
        "bias = np.random.rand()\n",
        "learning_rate = 0.01\n",
        "epochs = 1000\n",
        "for epoch in range(epochs):\n",
        "    predictions = np.dot(train_X, weights) + bias\n",
        "    errors = predictions - train_y\n",
        "    weight_gradients = (2 / len(train_X)) * np.dot(train_X.T, errors)\n",
        "    bias_gradient = (2 / len(train_X)) * np.sum(errors)\n",
        "    weights -= learning_rate * weight_gradients\n",
        "    bias -= learning_rate * bias_gradient\n",
        "    mse = np.mean(errors ** 2)\n",
        "    if epoch % 100 == 0:\n",
        "        print(f\"Epoch {epoch}, MSE: {mse:.5f}\")\n",
        "test_predictions = np.dot(test_X, weights) + bias\n",
        "test_mse = np.mean((test_predictions - test_y) ** 2)\n",
        "print(f\"Final Training MSE: {mse:.5f}\")\n",
        "print(f\"Test MSE: {test_mse:.5f}\")\n",
        "x1, x2, x3 = map(float, input(\"Enter x1, x2, x3: \").split())\n",
        "user_input = np.array([x1, x2, x3])\n",
        "user_prediction = np.dot(user_input, weights) + bias\n",
        "print(f\"Predicted output: {user_prediction:.5f}\")"
      ]
    },
    {
      "cell_type": "markdown",
      "source": [
        "2. Design a simple ANN architecture with one input and one output layer (no hidden\n",
        "layer). Assume a sigmoid activation function shown in the equation 1 in the output layer.\n",
        "\n"
      ],
      "metadata": {
        "id": "MGM1m_GkxgPa"
      }
    },
    {
      "cell_type": "code",
      "source": [
        "\n",
        "import numpy as np\n",
        "\n",
        "def sigmoid(x):\n",
        "    return 1 / (1 + np.exp(-x))\n",
        "\n",
        "def sigmoid_derivative(x):\n",
        "    return x * (1 - x)\n",
        "\n",
        "train_X = np.array([\n",
        "    [0.1, 0.2, 0.3],\n",
        "    [0.2, 0.3, 0.4],\n",
        "    [0.3, 0.4, 0.5],\n",
        "    [0.5, 0.6, 0.7],\n",
        "    [0.1, 0.3, 0.5],\n",
        "    [0.2, 0.4, 0.6],\n",
        "    [0.3, 0.5, 0.7],\n",
        "    [0.4, 0.6, 0.8],\n",
        "    [0.5, 0.7, 0.1]\n",
        "])\n",
        "train_y = np.array([0.5349, 0.5498, 0.5646, 0.5939, 0.5548, 0.5695, 0.5842, 0.5987, 0.5548])\n",
        "\n",
        "test_X = np.array([\n",
        "    [0.6, 0.7, 0.8],\n",
        "    [0.7, 0.8, 0.9]\n",
        "])\n",
        "test_y = np.array([0.6083, 0.6225])\n",
        "\n",
        "weights = np.random.rand(3)\n",
        "bias = np.random.rand()\n",
        "\n",
        "learning_rate = 0.01\n",
        "epochs = 1000\n",
        "\n",
        "for epoch in range(epochs):\n",
        "    linear_output = np.dot(train_X, weights) + bias\n",
        "    predictions = sigmoid(linear_output)\n",
        "    errors = predictions - train_y\n",
        "\n",
        "    d_predictions = errors * sigmoid_derivative(predictions)\n",
        "    weight_gradients = (2 / len(train_X)) * np.dot(train_X.T, d_predictions)\n",
        "    bias_gradient = (2 / len(train_X)) * np.sum(d_predictions)\n",
        "\n",
        "    weights -= learning_rate * weight_gradients\n",
        "    bias -= learning_rate * bias_gradient\n",
        "\n",
        "    mse = np.mean(errors ** 2)\n",
        "    if epoch % 100 == 0:\n",
        "        print(f\"Epoch {epoch}, MSE: {mse:.5f}\")\n",
        "\n",
        "test_predictions = sigmoid(np.dot(test_X, weights) + bias)\n",
        "test_mse = np.mean((test_predictions - test_y) ** 2)\n",
        "print(f\"Final Training MSE: {mse:.5f}\")\n",
        "print(f\"Test MSE: {test_mse:.5f}\")\n",
        "\n",
        "x1, x2, x3 = map(float, input(\"Enter x1, x2, x3: \").split())\n",
        "user_input = np.array([x1, x2, x3])\n",
        "user_prediction = sigmoid(np.dot(user_input, weights) + bias)\n",
        "print(f\"Predicted output: {user_prediction:.5f}\")"
      ],
      "metadata": {
        "colab": {
          "base_uri": "https://localhost:8080/"
        },
        "id": "Mw6XN5l2x_m_",
        "outputId": "bc1e9654-57e8-4c09-9df7-4f3a5c0ad59f"
      },
      "execution_count": null,
      "outputs": [
        {
          "output_type": "stream",
          "name": "stdout",
          "text": [
            "Epoch 0, MSE: 0.05757\n",
            "Epoch 100, MSE: 0.04927\n",
            "Epoch 200, MSE: 0.04125\n",
            "Epoch 300, MSE: 0.03377\n",
            "Epoch 400, MSE: 0.02704\n",
            "Epoch 500, MSE: 0.02119\n",
            "Epoch 600, MSE: 0.01630\n",
            "Epoch 700, MSE: 0.01233\n",
            "Epoch 800, MSE: 0.00921\n",
            "Epoch 900, MSE: 0.00681\n",
            "Final Training MSE: 0.00502\n",
            "Test MSE: 0.00276\n",
            "Enter x1, x2, x3: 0.6 0.7 0.8\n",
            "Predicted output: 0.66281\n"
          ]
        }
      ]
    }
  ]
}